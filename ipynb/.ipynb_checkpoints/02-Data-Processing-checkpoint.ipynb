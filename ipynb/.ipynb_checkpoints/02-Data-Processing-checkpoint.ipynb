{
 "cells": [
  {
   "cell_type": "markdown",
   "metadata": {},
   "source": [
    "# Data Preprocessing - (Ames, Iowa Housing)"
   ]
  },
  {
   "cell_type": "markdown",
   "metadata": {},
   "source": [
    "## Loading the Data and Initial Cleanup\n",
    "Log and Scale Transformations in load_data"
   ]
  },
  {
   "cell_type": "code",
   "execution_count": null,
   "metadata": {},
   "outputs": [],
   "source": [
    "source('../src/load_data.r')\n",
    "source('../src/multiplot.r')"
   ]
  },
  {
   "cell_type": "code",
   "execution_count": null,
   "metadata": {},
   "outputs": [],
   "source": [
    "library(ggplot2)\n",
    "library(reshape2)"
   ]
  },
  {
   "cell_type": "code",
   "execution_count": null,
   "metadata": {},
   "outputs": [],
   "source": [
    "dim(housing_df)"
   ]
  },
  {
   "cell_type": "markdown",
   "metadata": {},
   "source": [
    "## One-hot Encoding of Categoraical Features"
   ]
  },
  {
   "cell_type": "code",
   "execution_count": null,
   "metadata": {},
   "outputs": [],
   "source": [
    "for(i in 1:length(factors_df)){\n",
    "    if(is.factor(factors_df[,i])) {\n",
    "        for(level in unique(factors_df[,i])){\n",
    "              factors_df[paste(colnames(factors_df[i]), level, sep = \"_\")] <- ifelse(factors_df[,i] == level, 1, 0)\n",
    "        }\n",
    "    }\n",
    "}"
   ]
  },
  {
   "cell_type": "code",
   "execution_count": null,
   "metadata": {},
   "outputs": [],
   "source": [
    "length(factors_df);length(numeric_log_sc_df)"
   ]
  },
  {
   "cell_type": "markdown",
   "metadata": {},
   "source": [
    "## A Visual Preview of the Transformations\n",
    "#### Scaling and Log-Scaling for 3 Numerical Features"
   ]
  },
  {
   "cell_type": "code",
   "execution_count": null,
   "metadata": {},
   "outputs": [],
   "source": [
    "multiplot(\n",
    "    hist_with_kde(housing_df$GrLivArea),\n",
    "    hist_with_kde(numeric_sc_df$GrLivArea),\n",
    "    hist_with_kde(numeric_log_sc_df$GrLivArea),\n",
    "    cols = 3\n",
    "    )"
   ]
  },
  {
   "cell_type": "code",
   "execution_count": null,
   "metadata": {},
   "outputs": [],
   "source": [
    "multiplot(\n",
    "    hist_with_kde(housing_df$LotArea),\n",
    "    hist_with_kde(numeric_sc_df$LotArea),\n",
    "    hist_with_kde(numeric_log_sc_df$LotArea),\n",
    "    cols = 3\n",
    "    )"
   ]
  },
  {
   "cell_type": "code",
   "execution_count": null,
   "metadata": {},
   "outputs": [],
   "source": [
    "multiplot(\n",
    "    hist_with_kde(housing_df$LotFrontage),\n",
    "    hist_with_kde(numeric_sc_df$LotFrontage),\n",
    "    hist_with_kde(numeric_log_sc_df$LotFrontage),\n",
    "    cols = 3\n",
    "    )"
   ]
  },
  {
   "cell_type": "markdown",
   "metadata": {},
   "source": [
    "## Correlation Heatmap for Numerical Features"
   ]
  },
  {
   "cell_type": "code",
   "execution_count": null,
   "metadata": {},
   "outputs": [],
   "source": [
    "cormat = cor(numeric_df)\n",
    "cormat[lower.tri(cormat)] <- NA\n",
    "melted_cormat <- melt(cormat, na.rm = T)\n",
    "ggplot(data = melted_cormat, aes(Var2, Var1, fill = value))+\n",
    " geom_tile(color = \"white\")+\n",
    " scale_fill_gradient2(low = \"blue\", high = \"red\", mid = \"white\", \n",
    "   midpoint = 0, limit = c(-1,1), space = \"Lab\", \n",
    "   name=\"Pearson\\nCorrelation\") +\n",
    "  theme_minimal()+ \n",
    " theme(axis.text.x = element_text(angle = 45, vjust = 1, \n",
    "    size = 12, hjust = 1))+\n",
    " coord_fixed()"
   ]
  },
  {
   "cell_type": "code",
   "execution_count": null,
   "metadata": {},
   "outputs": [],
   "source": [
    "cor(numeric_df)"
   ]
  },
  {
   "cell_type": "markdown",
   "metadata": {},
   "source": [
    "## Top 5 Largest Correlation Numbers for SalePrice\n",
    "YearBuilt,TotalBsmtSF,X2stFlrSF,GarageArea,GrLivArea"
   ]
  }
 ],
 "metadata": {
  "kernelspec": {
   "display_name": "R",
   "language": "R",
   "name": "ir"
  },
  "language_info": {
   "codemirror_mode": "r",
   "file_extension": ".r",
   "mimetype": "text/x-r-source",
   "name": "R",
   "pygments_lexer": "r",
   "version": "3.4.1"
  }
 },
 "nbformat": 4,
 "nbformat_minor": 2
}
